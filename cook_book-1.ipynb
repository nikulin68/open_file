{
 "cells": [
  {
   "cell_type": "code",
   "execution_count": 1,
   "metadata": {},
   "outputs": [
    {
     "name": "stdout",
     "output_type": "stream",
     "text": [
      "cook_book =\n"
     ]
    },
    {
     "data": {
      "text/plain": [
       "{'Омлет': [{'ingredient_name': 'Яйцо ', 'quantity': 2, 'measure': ' шт'},\n",
       "  {'ingredient_name': 'Молоко ', 'quantity': 100, 'measure': ' мл'},\n",
       "  {'ingredient_name': 'Помидор ', 'quantity': 2, 'measure': ' шт'}],\n",
       " 'Утка по-пекински': [{'ingredient_name': 'Утка ',\n",
       "   'quantity': 1,\n",
       "   'measure': ' шт'},\n",
       "  {'ingredient_name': 'Вода ', 'quantity': 2, 'measure': ' л'},\n",
       "  {'ingredient_name': 'Мед ', 'quantity': 3, 'measure': ' ст.л'},\n",
       "  {'ingredient_name': 'Соевый соус ', 'quantity': 60, 'measure': ' мл'}],\n",
       " 'Запеченный картофель': [{'ingredient_name': 'Картофель ',\n",
       "   'quantity': 1,\n",
       "   'measure': ' кг'},\n",
       "  {'ingredient_name': 'Чеснок ', 'quantity': 3, 'measure': ' зубч'},\n",
       "  {'ingredient_name': 'Сыр гауда ', 'quantity': 100, 'measure': ' г'}],\n",
       " 'Фахитос': [{'ingredient_name': 'Говядина ',\n",
       "   'quantity': 500,\n",
       "   'measure': ' г'},\n",
       "  {'ingredient_name': 'Перец сладкий ', 'quantity': 1, 'measure': ' шт'},\n",
       "  {'ingredient_name': 'Лаваш ', 'quantity': 2, 'measure': ' шт'},\n",
       "  {'ingredient_name': 'Винный уксус ', 'quantity': 1, 'measure': ' ст.л'},\n",
       "  {'ingredient_name': 'Помидор ', 'quantity': 2, 'measure': ' шт'}]}"
      ]
     },
     "execution_count": 1,
     "metadata": {},
     "output_type": "execute_result"
    }
   ],
   "source": [
    "\n",
    "import os\n",
    "import time\n",
    "from pprint import pprint\n",
    "\n",
    "\n",
    "\n",
    "def read_cookbook():\n",
    "    file_path = os.path.join(os.getcwd(), 'cook_book.txt')\n",
    "    cook_book = {}\n",
    "    with open(file_path, 'r', encoding='utf-8') as f:\n",
    "        for line in f:\n",
    "            name = line.strip()\n",
    "            count = int(f.readline())\n",
    "            ing_list = list()\n",
    "            for item in range(count):\n",
    "                ingrs = {}\n",
    "                ingr = f.readline().strip()\n",
    "                ingrs['ingredient_name'], ingrs['quantity'], ingrs['measure'] = ingr.split('|')\n",
    "                ingrs['quantity'] = int(ingrs['quantity'])\n",
    "                ing_list.append(ingrs)\n",
    "            f.readline()\n",
    "            cook_book[name] = ing_list\n",
    "    return cook_book\n",
    "print(\"cook_book =\")\n",
    "read_cookbook()\n",
    "\n",
    "\n",
    "\n"
   ]
  },
  {
   "cell_type": "code",
   "execution_count": 2,
   "metadata": {},
   "outputs": [
    {
     "data": {
      "text/plain": [
       "{'Говядина ': {'measure': ' г', 'quantity': 5000},\n",
       " 'Перец сладкий ': {'measure': ' шт', 'quantity': 10},\n",
       " 'Лаваш ': {'measure': ' шт', 'quantity': 20},\n",
       " 'Винный уксус ': {'measure': ' ст.л', 'quantity': 10},\n",
       " 'Помидор ': {'measure': ' шт', 'quantity': 40},\n",
       " 'Яйцо ': {'measure': ' шт', 'quantity': 20},\n",
       " 'Молоко ': {'measure': ' мл', 'quantity': 1000}}"
      ]
     },
     "execution_count": 2,
     "metadata": {},
     "output_type": "execute_result"
    }
   ],
   "source": [
    "\n",
    "def get_shop_list_by_dishes(dishes, person_count):\n",
    "    ingr_list = dict()\n",
    "    for dishes_name in dishes:  \n",
    "        if dishes_name in cook_book:\n",
    "            for ings in cook_book[dishes_name]:  \n",
    "                quan_list = dict()\n",
    "                if ings['ingredient_name'] not in ingr_list:\n",
    "                    quan_list['measure'] = ings['measure']\n",
    "                    quan_list['quantity'] = ings['quantity'] * person_count\n",
    "                    ingr_list[ings['ingredient_name']] = quan_list\n",
    "                else:\n",
    "                    ingr_list[ings['ingredient_name']]['quantity'] = ingr_list[ings['ingredient_name']]['quantity'] + ings['quantity'] * person_count\n",
    "\n",
    "        else:\n",
    "            print(f'\\n\"Такого блюда нет!\"\\n')\n",
    "    return ingr_list\n",
    "cook_book = read_cookbook()\n",
    "get_shop_list_by_dishes(['Фахитос','Омлет'], 10)\n",
    "\n",
    "\n"
   ]
  }
 ],
 "metadata": {
  "interpreter": {
   "hash": "31f2aee4e71d21fbe5cf8b01ff0e069b9275f58929596ceb00d14d90e3e16cd6"
  },
  "kernelspec": {
   "display_name": "Python 3.8.9 64-bit",
   "language": "python",
   "name": "python3"
  },
  "language_info": {
   "codemirror_mode": {
    "name": "ipython",
    "version": 3
   },
   "file_extension": ".py",
   "mimetype": "text/x-python",
   "name": "python",
   "nbconvert_exporter": "python",
   "pygments_lexer": "ipython3",
   "version": "3.8.9"
  },
  "orig_nbformat": 4
 },
 "nbformat": 4,
 "nbformat_minor": 2
}
